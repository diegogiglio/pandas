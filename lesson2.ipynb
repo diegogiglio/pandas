{
 "cells": [
  {
   "cell_type": "code",
   "execution_count": 2,
   "metadata": {},
   "outputs": [],
   "source": [
    "import pandas as pd\n",
    "%matplotlib inline"
   ]
  },
  {
   "cell_type": "code",
   "execution_count": 3,
   "metadata": {},
   "outputs": [],
   "source": [
    "df = pd.read_csv('sih-janeiro-2017-cirurgias-eletiva-e-emergencia.csv', sep=';', encoding='cp1252')"
   ]
  },
  {
   "cell_type": "code",
   "execution_count": 5,
   "metadata": {},
   "outputs": [
    {
     "data": {
      "text/plain": [
       "Mes ref                                 int64\n",
       "Mes de processamento mm                object\n",
       "Ano de processamento aaaa               int64\n",
       "Estabelecimento cnes                   object\n",
       "Codigo regiao                           int64\n",
       "Regiao                                 object\n",
       "Municipio do estabelecimento           object\n",
       "Complexidade do Procedimento           object\n",
       "Carater da internaca/ATENDIMENTO       object\n",
       "Codigo grupo                            int64\n",
       "Grupo procedimento realizado           object\n",
       "Codigo Sub grupo                        int64\n",
       "Sub grupo procedimento realizado       object\n",
       "Codigo do procedimento realizado        int64\n",
       "Procedimento realizado                 object\n",
       "Quantidade aprovada do procedimento     int64\n",
       "dtype: object"
      ]
     },
     "execution_count": 5,
     "metadata": {},
     "output_type": "execute_result"
    }
   ],
   "source": [
    "df.dtypes"
   ]
  },
  {
   "cell_type": "code",
   "execution_count": 6,
   "metadata": {},
   "outputs": [
    {
     "data": {
      "text/plain": [
       "(4862, 16)"
      ]
     },
     "execution_count": 6,
     "metadata": {},
     "output_type": "execute_result"
    }
   ],
   "source": [
    "df.shape"
   ]
  },
  {
   "cell_type": "code",
   "execution_count": 10,
   "metadata": {},
   "outputs": [
    {
     "data": {
      "text/plain": [
       "16"
      ]
     },
     "execution_count": 10,
     "metadata": {},
     "output_type": "execute_result"
    }
   ],
   "source": [
    "df.shape[1]"
   ]
  },
  {
   "cell_type": "code",
   "execution_count": 12,
   "metadata": {},
   "outputs": [
    {
     "data": {
      "text/plain": [
       "Index(['Mes ref', 'Mes de processamento mm', 'Ano de processamento aaaa',\n",
       "       'Estabelecimento cnes', 'Codigo regiao', 'Regiao',\n",
       "       'Municipio do estabelecimento', 'Complexidade do Procedimento',\n",
       "       'Carater da internaca/ATENDIMENTO', 'Codigo grupo',\n",
       "       'Grupo procedimento realizado', 'Codigo Sub grupo',\n",
       "       'Sub grupo procedimento realizado', 'Codigo do procedimento realizado',\n",
       "       'Procedimento realizado', 'Quantidade aprovada do procedimento'],\n",
       "      dtype='object')"
      ]
     },
     "execution_count": 12,
     "metadata": {},
     "output_type": "execute_result"
    }
   ],
   "source": [
    "df.columns"
   ]
  }
 ],
 "metadata": {
  "kernelspec": {
   "display_name": "Python 3",
   "language": "python",
   "name": "python3"
  },
  "language_info": {
   "codemirror_mode": {
    "name": "ipython",
    "version": 3
   },
   "file_extension": ".py",
   "mimetype": "text/x-python",
   "name": "python",
   "nbconvert_exporter": "python",
   "pygments_lexer": "ipython3",
   "version": "3.7.4"
  }
 },
 "nbformat": 4,
 "nbformat_minor": 2
}
